{
 "cells": [
  {
   "cell_type": "markdown",
   "metadata": {},
   "source": [
    "# PolicyAndEthicsforExperiments"
   ]
  },
  {
   "cell_type": "markdown",
   "metadata": {
    "collapsed": true
   },
   "source": [
    "## Four Pricinples for Experiments\n",
    "\n",
    "#### Risk\n",
    "**First**, in the study, what risk is the participant undertaking? The main threshold is whether the risk exceeds that of “minimal risk”.<br>\n",
    "**Minimal risk** is defined as the probability and magnitude of harm that a participant would encounter in normal daily life.<br>\n",
    "In most, but not all, online experiments, it can certainly be debated as to whether any of the experiments lead to anything beyond minimal risk. \n",
    "#### Benefits\n",
    "\n",
    "**Next**,*What benefits might result from the study?* Even if the risk is minimal, how might the results help? In most online A/B testing, the benefits are around improving the product. In other social sciences, it is about understanding the human condition in ways that might help, for example in education and development. In medicine, the risks are often higher but the benefits are often around improved health outcomes.\n",
    "\n",
    "**It is important to be able to state what the benefit would be from completing the study.**\n",
    "#### Alternatives\n",
    "\n",
    "**Third**, *what other choices do participants have?*(We need to consider the possible impact to the users when we rolling out our experiment!)\n",
    "\n",
    "For example, if you are testing out changes to a search engine, participants always have the choice to use another search engine. The main issue is that the fewer alternatives that participants have, the more issue that there is around coercion and whether participants really have a choice in whether to participate or not, and how that balances against the risks and benefits.\n",
    "#### Data Sensitivity\n",
    "\n",
    "**Finally**, what data is being collected, and what is the expectation of privacy and confidentiality? This last question is quite nuanced, encompassing numerous questions:\n",
    "\n",
    "* Do participants understand what data is being collected about them?\n",
    "* What harm would befall them should that data be made public?\n",
    "* Would they expect that data to be considered private and confidential?\n",
    "\n",
    "For example, if participants are being observed in a public setting (e.g., a football stadium), there is really no expectation of privacy. If the study is on existing public data, then there is also no expectation of further confidentiality.\n",
    "\n",
    "If, however, new data is being gathered, then the questions come down to:\n",
    "\n",
    "* What data is being gathered? How **sensitive** is it? Does it include financial and health data?\n",
    "* Can the data being gathered be tied to the individual, i.e., is it considered **personally identifiable**?\n",
    "* *How is the data being handled, with what security?* What level of confidentiality can participants expect?\n",
    "* What **harm** would befall the individual should the data become public, where the harm would encompass health, psychological / emotional, social, and financial concerns?"
   ]
  },
  {
   "cell_type": "markdown",
   "metadata": {},
   "source": [
    "## Dfference between pseudonymous and anonymous data\n",
    "One question that frequently gets asked is what the difference is between identified, pseudonymous, and anonymous data is.\n",
    "\n",
    "**Identified** data means that data is stored and collected with personally identifiable information. This can be names, IDs such as a social security number or driver’s license ID, phone numbers, etc. HIPAA is a common standard, and that standard has [18 identifiers (see the Safe Harbor method)](http://www.hhs.gov/ocr/privacy/hipaa/understanding/coveredentities/De-identification/guidance.html#standard)  that it considers personally identifiable. Device id, such as a smartphone’s device id, are considered personally identifiable in many instances.\n",
    "\n",
    "**Anonymous** data means that data is stored and collected without any personally identifiable information. This data can be considered pseudonymous if it is stored with a randomly generated id such as a cookie that gets assigned on some event, such as the first time that a user goes to an app or website and does not have such an id stored.\n",
    "\n",
    "In most cases, anonymous data still has time-stamps -- which is one of the HIPAA 18 identifiers. Why? Well, we need to distinguish between anonymous data and anonymized data. \n",
    "\n",
    "\n",
    "**Anonymized data** is identified or anonymous data that has been looked at and guaranteed in some way that the re-identification risk is low to non-existent, i.e., that given the data, it would be hard to impossible for someone to be able to figure out which individual this data refers to. Often times, this guarantee is done statistically, and looks at how many individuals would fall into every possible bucket (i.e., combination of values).\n",
    "\n",
    "What this means is that anonymous data may still have high re-identification risk (see AOL example).\n",
    "\n",
    "So, if we go back to the data being gathered, collected, stored, and used in the experiment, the questions are:\n",
    "\n",
    "How sensitive is the data?\n",
    "What is the re-identification risk of individuals from the data?\n",
    "As the sensitivity and the risk increases, then the level of data protection must increase: confidentiality, access control, security, monitoring & auditing, etc.\n",
    "\n",
    "Additional reading\n",
    "[aniel Solove's \"A Taxonomy of Privacy\"](https://www.law.upenn.edu/journals/lawreview/articles/volume154/issue3/Solove154U.Pa.L.Rev.477%282006%29.pdf)assifies some of things people mean by privacy in order to better understand privacy violations."
   ]
  },
  {
   "cell_type": "markdown",
   "metadata": {},
   "source": [
    "### Questions And Consent before collecting and storing data\n",
    "\n",
    "1. Are iser being informed before data being collected?\n",
    "2. What user identifiers are tied to the data?\n",
    "3. What type of data is being collected?\n",
    "4. What is the level of confidentiality and security the data subjected to?\n"
   ]
  },
  {
   "cell_type": "markdown",
   "metadata": {},
   "source": [
    "## Summary of Principles\n",
    "**Summary**: it is a grey area as to whether many of these Internet studies should be subject to IRB review or not and whether informed consent is required. Neither has been common to date.\n",
    "\n",
    "Most studies, due to the nature of the online service, are likely minimal risk, and the bigger question is about data collection with regards to identifiability, privacy, and confidentiality / security. That said, arguably, a neutral third party outside of the company should be making these calls rather than someone with a vested interest in the outcome. One growing risk in online studies is that of bias and the potential for discrimination, such as differential pricing and whether that is discriminatory to a particular population for example. Discussing those types of biases is beyond the scope of this course.\n",
    "\n",
    "Our recommendation is that there should be internal reviews of all proposed studies by experts regarding the questions:\n",
    "\n",
    "* Are participants facing more than minimal risk?\n",
    "* Do participants understand what data is being gathered?\n",
    "* Is that data identifiable?\n",
    "* How is the data handled?\n",
    "* And if enough flags are raised, that an external review happen."
   ]
  },
  {
   "cell_type": "code",
   "execution_count": null,
   "metadata": {
    "collapsed": true
   },
   "outputs": [],
   "source": []
  }
 ],
 "metadata": {
  "kernelspec": {
   "display_name": "Python 2",
   "language": "python",
   "name": "python2"
  },
  "language_info": {
   "codemirror_mode": {
    "name": "ipython",
    "version": 2
   },
   "file_extension": ".py",
   "mimetype": "text/x-python",
   "name": "python",
   "nbconvert_exporter": "python",
   "pygments_lexer": "ipython2",
   "version": "2.7.12+"
  }
 },
 "nbformat": 4,
 "nbformat_minor": 2
}
