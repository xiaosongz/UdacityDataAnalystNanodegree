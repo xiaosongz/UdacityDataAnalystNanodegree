{
 "cells": [
  {
   "cell_type": "markdown",
   "metadata": {},
   "source": [
    "## Overview of A/B testing"
   ]
  },
  {
   "cell_type": "markdown",
   "metadata": {},
   "source": [
    "#### A/B Testing posibilities:\n",
    "\n",
    "* A/B test can be use to compare two version of your services, to get a real world response data from your customer, instead just imagination.\n",
    "* A/B test will need your two version of service are close enough and only change the area you want to test out.\n",
    "* You will need a enough samples and the decision period(or response time) from your customers should be short enough! - this is why apartment finding website and car selling website are not a good place to luanch A/B testing, since people aren't buy car and rent new apartment so often.\n"
   ]
  },
  {
   "cell_type": "markdown",
   "metadata": {},
   "source": []
  },
  {
   "cell_type": "markdown",
   "metadata": {},
   "source": [
    "### Comparign two samples\n",
    "control Vs. experimental\n",
    "#### Pooled two samples\n",
    "\n",
    "$$\\hat{P}_{pooled} = \\dfrac{X_{cont}+X_{exp}}{N_{cont}+N_{exp}}$$\n",
    "\n",
    "$$ SE_{pooled} = \\sqrt{\\hat{P}_{pooled}(1 - \\hat{P}_{pooled})(\\frac{1}{N_{cont}}+\\frac{1}{N_{exp}})}$$\n",
    "\n",
    "$$\\hat{d} =\\hat{P}_{cont} - \\hat{P}_{exp}$$"
   ]
  },
  {
   "cell_type": "markdown",
   "metadata": {},
   "source": [
    "#### Practical, Or Substantive, Significance\n",
    "\n",
    "Not all changes are practical and substantive! <br> Always conside the cost/effect ratio before decide to move on to the step\n"
   ]
  },
  {
   "cell_type": "markdown",
   "metadata": {},
   "source": [
    "#### How Page Views Affect Sensitivity\n",
    "\n",
    "$\\alpha:$ Type $I$ error, Reject $H_0$ when $H_0$ is true.<br>\n",
    "$\\beta:$ Type $II$ error, Fail to reject $H_0$ when $H_0$ is false.\n",
    "\n",
    "$Sensitivity = 1 - \\beta$ (Usually set to $80\\%$)\n",
    "\n",
    "we need a relatively large same to get a higher sensitivivity without increase $\\alpha$.\n",
    "\n",
    "#### Calculating Number Of Pages Views Needed\n",
    "\n",
    "Note on power\n",
    "Statistics textbooks frequently define power to mean the same thing as sensitivity, that is, $1 - \\beta$. However, conversationally power often means the probability that your test draws the correct conclusions, and this probability depends on both alpha and beta. In this course, we'll use the second definition, and we'll use sensitivity to refer to $1 - \\beta$."
   ]
  },
  {
   "cell_type": "code",
   "execution_count": 28,
   "metadata": {
    "collapsed": false
   },
   "outputs": [
    {
     "name": "stdout",
     "output_type": "stream",
     "text": [
      "-0.0292644143233\n",
      "-3.28813644082\n"
     ]
    }
   ],
   "source": [
    "\n",
    "ppool = 0.111\n",
    "pexp = 1242.0/9886.0\n",
    "\n",
    "dhat = ppool - pexp\n",
    "print dhat*2 \n",
    "\n",
    "print dhat/0.00445"
   ]
  },
  {
   "cell_type": "code",
   "execution_count": null,
   "metadata": {
    "collapsed": true
   },
   "outputs": [],
   "source": [
    "print dhat"
   ]
  },
  {
   "cell_type": "code",
   "execution_count": 20,
   "metadata": {
    "collapsed": false
   },
   "outputs": [
    {
     "name": "stdout",
     "output_type": "stream",
     "text": [
      "0\n"
     ]
    }
   ],
   "source": [
    "print 1/10"
   ]
  },
  {
   "cell_type": "code",
   "execution_count": null,
   "metadata": {
    "collapsed": true
   },
   "outputs": [],
   "source": []
  }
 ],
 "metadata": {
  "kernelspec": {
   "display_name": "Python 2",
   "language": "python",
   "name": "python2"
  },
  "language_info": {
   "codemirror_mode": {
    "name": "ipython",
    "version": 2
   },
   "file_extension": ".py",
   "mimetype": "text/x-python",
   "name": "python",
   "nbconvert_exporter": "python",
   "pygments_lexer": "ipython2",
   "version": "2.7.12+"
  }
 },
 "nbformat": 4,
 "nbformat_minor": 2
}
