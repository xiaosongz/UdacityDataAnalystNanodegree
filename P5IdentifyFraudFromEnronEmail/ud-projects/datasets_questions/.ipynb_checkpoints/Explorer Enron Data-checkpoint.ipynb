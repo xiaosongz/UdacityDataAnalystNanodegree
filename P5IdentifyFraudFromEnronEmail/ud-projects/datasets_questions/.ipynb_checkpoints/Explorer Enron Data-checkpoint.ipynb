{
 "cells": [
  {
   "cell_type": "markdown",
   "metadata": {},
   "source": [
    "## P5 Machine Learning MiniProject Explorer Enron Data\n",
    "\n",
    "\n",
    "\"The Enron fraud is a big, messy and totally fascinating story about corporate malfeasance of nearly every imaginable type. The Enron email and financial datasets are also big, messy treasure troves of information, which become much more useful once you know your way around them a bit. We’ve combined the email and finance data into a single dataset, which you’ll explore in this mini-project.\"\n",
    "\n",
    "Getting started:\n",
    "```\n",
    "Clone this git repository: https://github.com/udacity/ud120-projects\n",
    "Open the starter code: datasets_questions/explore_enron_data.py\n",
    "```"
   ]
  },
  {
   "cell_type": "code",
   "execution_count": 2,
   "metadata": {
    "collapsed": true
   },
   "outputs": [],
   "source": [
    "#!/usr/bin/python\n",
    "\n",
    "\"\"\" \n",
    "    Starter code for exploring the Enron dataset (emails + finances);\n",
    "    loads up the dataset (pickled dict of dicts).\n",
    "\n",
    "    The dataset has the form:\n",
    "    enron_data[\"LASTNAME FIRSTNAME MIDDLEINITIAL\"] = { features_dict }\n",
    "\n",
    "    {features_dict} is a dictionary of features associated with that person.\n",
    "    You should explore features_dict as part of the mini-project,\n",
    "    but here's an example to get you started:\n",
    "\n",
    "    enron_data[\"SKILLING JEFFREY K\"][\"bonus\"] = 5600000\n",
    "    \n",
    "\"\"\"\n",
    "import pickle\n",
    "\n",
    "enron_data = pickle.load(open(\"../final_project/final_project_dataset.pkl\", \"r\"))"
   ]
  },
  {
   "cell_type": "code",
   "execution_count": 3,
   "metadata": {
    "collapsed": false
   },
   "outputs": [
    {
     "data": {
      "text/plain": [
       "dict"
      ]
     },
     "execution_count": 3,
     "metadata": {},
     "output_type": "execute_result"
    }
   ],
   "source": [
    "type(enron_data)"
   ]
  },
  {
   "cell_type": "markdown",
   "metadata": {},
   "source": [
    "The aggregated Enron email + financial dataset is stored in a dictionary, where each key in the dictionary is a person’s name and the value is a dictionary containing all the features of that person.\n",
    "The email + finance (E+F) data dictionary is stored as a pickle file, which is a handy way to store and load python objects directly. Use datasets_questions/explore_enron_data.py to load the dataset.\n",
    "\n",
    "How many data points (people) are in the dataset?\n",
    "146"
   ]
  },
  {
   "cell_type": "code",
   "execution_count": 4,
   "metadata": {
    "collapsed": false
   },
   "outputs": [
    {
     "data": {
      "text/plain": [
       "146"
      ]
     },
     "execution_count": 4,
     "metadata": {},
     "output_type": "execute_result"
    }
   ],
   "source": [
    "len(enron_data)"
   ]
  },
  {
   "cell_type": "markdown",
   "metadata": {},
   "source": [
    "For each person, how many features are available?"
   ]
  },
  {
   "cell_type": "code",
   "execution_count": 24,
   "metadata": {
    "collapsed": false,
    "scrolled": true
   },
   "outputs": [
    {
     "data": {
      "text/plain": [
       "21"
      ]
     },
     "execution_count": 24,
     "metadata": {},
     "output_type": "execute_result"
    }
   ],
   "source": [
    "#len(enron_data['ALLEN PHILLIP K'])\n",
    "len(enron_data.values()[0])"
   ]
  },
  {
   "cell_type": "markdown",
   "metadata": {},
   "source": [
    "The “poi” feature records whether the person is a person of interest, according to our definition. How many POIs are there in the E+F dataset?"
   ]
  },
  {
   "cell_type": "code",
   "execution_count": 45,
   "metadata": {
    "collapsed": false
   },
   "outputs": [
    {
     "data": {
      "text/plain": [
       "18"
      ]
     },
     "execution_count": 45,
     "metadata": {},
     "output_type": "execute_result"
    }
   ],
   "source": [
    "import pandas as pd\n",
    "\n",
    "enron = pd.DataFrame(enron_data)\n",
    "enron = enron.transpose()\n",
    "sum(enron['poi'])"
   ]
  },
  {
   "cell_type": "markdown",
   "metadata": {},
   "source": [
    "We compiled a list of all POI names (in ../final_project/poi_names.txt) and associated email addresses (in ../final_project/poi_email_addresses.py).\n",
    "\n",
    "How many POI’s were there total? (Use the names file, not the email addresses, since many folks have more than one address and a few didn’t work for Enron, so we don’t have their emails.)\n",
    "\n",
    "`35 poi according to the poi_names.txt`\n",
    "\n",
    "As you can see, we have many of the POIs in our E+F dataset, but not all of them. Why is that a potential problem?\n",
    "\n",
    "We will return to this later to explain how a POI could end up not being in the Enron E+F dataset, so you fully understand the issue before moving on.\n",
    "\n",
    "#### Query the Dataset 1\n",
    "\n",
    "There are a few things you could say here, but our main thought is about having enough data to really learn the patterns.  In general, more data is always better--only having 18 data points doesn't give you that many examples to learn from.\n",
    "\n",
    "Like any dict of dicts, individual people/features can be accessed like so:\n",
    "\n",
    "enron_data[\"LASTNAME FIRSTNAME\"][\"feature_name\"]\n",
    "or, sometimes \n",
    "enron_data[\"LASTNAME FIRSTNAME MIDDLEINITIAL\"][\"feature_name\"]\n",
    "\n",
    "What is the total value of the stock belonging to James Prentice?"
   ]
  },
  {
   "cell_type": "code",
   "execution_count": 74,
   "metadata": {
    "collapsed": false
   },
   "outputs": [
    {
     "data": {
      "text/plain": [
       "1095040"
      ]
     },
     "execution_count": 74,
     "metadata": {},
     "output_type": "execute_result"
    }
   ],
   "source": [
    "enron['total_stock_value'].loc['PRENTICE JAMES']"
   ]
  },
  {
   "cell_type": "markdown",
   "metadata": {},
   "source": [
    "####  Query the Dataset 2\n",
    "Like any dict of dicts, individual people/features can be accessed like so:\n",
    "\n",
    "enron_data[\"LASTNAME FIRSTNAME\"][\"feature_name\"]\n",
    "\n",
    "How many email messages do we have from Wesley Colwell to persons of interest?\n",
    "11"
   ]
  },
  {
   "cell_type": "code",
   "execution_count": 76,
   "metadata": {
    "collapsed": false
   },
   "outputs": [
    {
     "data": {
      "text/plain": [
       "11"
      ]
     },
     "execution_count": 76,
     "metadata": {},
     "output_type": "execute_result"
    }
   ],
   "source": [
    "#enron.columns\n",
    "enron['from_this_person_to_poi'].loc['COLWELL WESLEY']\n"
   ]
  },
  {
   "cell_type": "markdown",
   "metadata": {},
   "source": [
    "####  Query the Dataset 3\n",
    "Like any dict of dicts, individual people/features can be accessed like so:\n",
    "\n",
    "enron_data[\"LASTNAME FIRSTNAME\"][\"feature_name\"]\n",
    "\n",
    "or\n",
    "\n",
    "enron_data[\"LASTNAME FIRSTNAME MIDDLEINITIAL\"][\"feature_name\"]\n",
    "\n",
    "What’s the value of stock options exercised by Jeffrey K Skilling?\n",
    "\n",
    "19250000"
   ]
  },
  {
   "cell_type": "code",
   "execution_count": 77,
   "metadata": {
    "collapsed": false
   },
   "outputs": [
    {
     "data": {
      "text/plain": [
       "19250000"
      ]
     },
     "execution_count": 77,
     "metadata": {},
     "output_type": "execute_result"
    }
   ],
   "source": [
    "enron['exercised_stock_options'].loc['SKILLING JEFFREY K']"
   ]
  },
  {
   "cell_type": "markdown",
   "metadata": {},
   "source": [
    "### Research the Enron Fraud\n",
    "In the coming lessons, we’ll talk about how the best features are often motivated by our human understanding of the problem at hand. In this case, that means knowing a little about the story of the Enron fraud.\n",
    "\n",
    "If you have an hour and a half to spare, “Enron: The Smartest Guys in the Room” is a documentary that gives an amazing overview of the story. Alternatively, there are plenty of archival newspaper stories that chronicle the rise and fall of Enron.\n",
    "\n",
    "Which of these schemes was Enron not involved in?\n",
    "\n",
    "* selling assets to shell companies at the end of each month, and buying them back at the beginning of the next month to hide accounting losses\n",
    "* causing electrical grid failures in California\n",
    "* illegally obtained a government report that enabled them to corner the market on frozen * concentrated orange juice futures\n",
    "* conspiring to give a Saudi prince expedited American citizenship\n",
    "* a plan in collaboration with Blockbuster movies to stream movies over the internet\n",
    "\n",
    "\n",
    "Of these three individuals (Lay, Skilling and Fastow), who took home the most money (largest value of “total_payments” feature)?\n",
    "\n",
    "How much money did that person get?"
   ]
  },
  {
   "cell_type": "code",
   "execution_count": 79,
   "metadata": {
    "collapsed": false
   },
   "outputs": [],
   "source": [
    "eso = enron[\"exercised_stock_options\"]"
   ]
  },
  {
   "cell_type": "code",
   "execution_count": 105,
   "metadata": {
    "collapsed": false
   },
   "outputs": [
    {
     "data": {
      "text/plain": [
       "bonus                                        5600000\n",
       "deferral_payments                                NaN\n",
       "deferred_income                                  NaN\n",
       "director_fees                                    NaN\n",
       "email_address                jeff.skilling@enron.com\n",
       "exercised_stock_options                     19250000\n",
       "expenses                                       29336\n",
       "from_messages                                    108\n",
       "from_poi_to_this_person                           88\n",
       "from_this_person_to_poi                           30\n",
       "loan_advances                                    NaN\n",
       "long_term_incentive                          1920000\n",
       "other                                          22122\n",
       "poi                                             True\n",
       "restricted_stock                             6843672\n",
       "restricted_stock_deferred                        NaN\n",
       "salary                                       1111258\n",
       "shared_receipt_with_poi                         2042\n",
       "to_messages                                     3627\n",
       "total_payments                               8682716\n",
       "total_stock_value                           26093672\n",
       "Name: SKILLING JEFFREY K, dtype: object"
      ]
     },
     "execution_count": 105,
     "metadata": {},
     "output_type": "execute_result"
    }
   ],
   "source": [
    "enron.loc['SKILLING JEFFREY K']"
   ]
  },
  {
   "cell_type": "code",
   "execution_count": 103,
   "metadata": {
    "collapsed": false
   },
   "outputs": [
    {
     "data": {
      "text/plain": [
       "bonus                                        1300000\n",
       "deferral_payments                                NaN\n",
       "deferred_income                             -1386055\n",
       "director_fees                                    NaN\n",
       "email_address                andrew.fastow@enron.com\n",
       "exercised_stock_options                          NaN\n",
       "expenses                                       55921\n",
       "from_messages                                    NaN\n",
       "from_poi_to_this_person                          NaN\n",
       "from_this_person_to_poi                          NaN\n",
       "loan_advances                                    NaN\n",
       "long_term_incentive                          1736055\n",
       "other                                         277464\n",
       "poi                                             True\n",
       "restricted_stock                             1794412\n",
       "restricted_stock_deferred                        NaN\n",
       "salary                                        440698\n",
       "shared_receipt_with_poi                          NaN\n",
       "to_messages                                      NaN\n",
       "total_payments                               2424083\n",
       "total_stock_value                            1794412\n",
       "Name: FASTOW ANDREW S, dtype: object"
      ]
     },
     "execution_count": 103,
     "metadata": {},
     "output_type": "execute_result"
    }
   ],
   "source": [
    "enron.loc['FASTOW ANDREW S']"
   ]
  },
  {
   "cell_type": "code",
   "execution_count": 167,
   "metadata": {
    "collapsed": false
   },
   "outputs": [
    {
     "data": {
      "text/plain": [
       "bonus                                      7000000\n",
       "deferral_payments                           202911\n",
       "deferred_income                            -300000\n",
       "director_fees                                  NaN\n",
       "email_address                kenneth.lay@enron.com\n",
       "exercised_stock_options                   34348384\n",
       "expenses                                     99832\n",
       "from_messages                                   36\n",
       "from_poi_to_this_person                        123\n",
       "from_this_person_to_poi                         16\n",
       "loan_advances                             81525000\n",
       "long_term_incentive                        3600000\n",
       "other                                     10359729\n",
       "poi                                           True\n",
       "restricted_stock                          14761694\n",
       "restricted_stock_deferred                      NaN\n",
       "salary                                     1072321\n",
       "shared_receipt_with_poi                       2411\n",
       "to_messages                                   4273\n",
       "total_payments                           103559793\n",
       "total_stock_value                         49110078\n",
       "Name: LAY KENNETH L, dtype: object"
      ]
     },
     "execution_count": 167,
     "metadata": {},
     "output_type": "execute_result"
    }
   ],
   "source": [
    "enron.loc['LAY KENNETH L']"
   ]
  },
  {
   "cell_type": "code",
   "execution_count": 97,
   "metadata": {
    "collapsed": false,
    "scrolled": true
   },
   "outputs": [
    {
     "name": "stdout",
     "output_type": "stream",
     "text": [
      "ALLEN PHILLIP K\n",
      "BADUM JAMES P\n",
      "BANNANTINE JAMES M\n",
      "BAXTER JOHN C\n",
      "BAY FRANKLIN R\n",
      "BAZELIDES PHILIP J\n",
      "BECK SALLY W\n",
      "BELDEN TIMOTHY N\n",
      "BELFER ROBERT\n",
      "BERBERIAN DAVID\n",
      "BERGSIEKER RICHARD P\n",
      "BHATNAGAR SANJAY\n",
      "BIBI PHILIPPE A\n",
      "BLACHMAN JEREMY M\n",
      "BLAKE JR. NORMAN P\n",
      "BOWEN JR RAYMOND M\n",
      "BROWN MICHAEL\n",
      "BUCHANAN HAROLD G\n",
      "BUTTS ROBERT H\n",
      "BUY RICHARD B\n",
      "CALGER CHRISTOPHER F\n",
      "CARTER REBECCA C\n",
      "CAUSEY RICHARD A\n",
      "CHAN RONNIE\n",
      "CHRISTODOULOU DIOMEDES\n",
      "CLINE KENNETH W\n",
      "COLWELL WESLEY\n",
      "CORDES WILLIAM R\n",
      "COX DAVID\n",
      "CUMBERLAND MICHAEL S\n",
      "DEFFNER JOSEPH M\n",
      "DELAINEY DAVID W\n",
      "DERRICK JR. JAMES V\n",
      "DETMERING TIMOTHY J\n",
      "DIETRICH JANET R\n",
      "DIMICHELE RICHARD G\n",
      "DODSON KEITH\n",
      "DONAHUE JR JEFFREY M\n",
      "DUNCAN JOHN H\n",
      "DURAN WILLIAM D\n",
      "ECHOLS JOHN B\n",
      "ELLIOTT STEVEN\n",
      "FALLON JAMES B\n",
      "FASTOW ANDREW S\n",
      "FITZGERALD JAY L\n",
      "FOWLER PEGGY\n",
      "FOY JOE\n",
      "FREVERT MARK A\n",
      "FUGH JOHN L\n",
      "GAHN ROBERT S\n",
      "GARLAND C KEVIN\n",
      "GATHMANN WILLIAM D\n",
      "GIBBS DANA R\n",
      "GILLIS JOHN\n",
      "GLISAN JR BEN F\n",
      "GOLD JOSEPH\n",
      "GRAMM WENDY L\n",
      "GRAY RODNEY\n",
      "HAEDICKE MARK E\n",
      "HANNON KEVIN P\n",
      "HAUG DAVID L\n",
      "HAYES ROBERT E\n",
      "HAYSLETT RODERICK J\n",
      "HERMANN ROBERT J\n",
      "HICKERSON GARY J\n",
      "HIRKO JOSEPH\n",
      "HORTON STANLEY C\n",
      "HUGHES JAMES A\n",
      "HUMPHREY GENE E\n",
      "IZZO LAWRENCE L\n",
      "JACKSON CHARLENE R\n",
      "JAEDICKE ROBERT\n",
      "KAMINSKI WINCENTY J\n",
      "KEAN STEVEN J\n",
      "KISHKILL JOSEPH G\n",
      "KITCHEN LOUISE\n",
      "KOENIG MARK E\n",
      "KOPPER MICHAEL J\n",
      "LAVORATO JOHN J\n",
      "LAY KENNETH L\n",
      "LEFF DANIEL P\n",
      "LEMAISTRE CHARLES\n",
      "LEWIS RICHARD\n",
      "LINDHOLM TOD A\n",
      "LOCKHART EUGENE E\n",
      "LOWRY CHARLES P\n",
      "MARTIN AMANDA K\n",
      "MCCARTY DANNY J\n",
      "MCCLELLAN GEORGE\n",
      "MCCONNELL MICHAEL S\n",
      "MCDONALD REBECCA\n",
      "MCMAHON JEFFREY\n",
      "MENDELSOHN JOHN\n",
      "METTS MARK\n",
      "MEYER JEROME J\n",
      "MEYER ROCKFORD G\n",
      "MORAN MICHAEL P\n",
      "MORDAUNT KRISTINA M\n",
      "MULLER MARK S\n",
      "MURRAY JULIA H\n",
      "NOLES JAMES L\n",
      "OLSON CINDY K\n",
      "OVERDYKE JR JERE C\n",
      "PAI LOU L\n",
      "PEREIRA PAULO V. FERRAZ\n",
      "PICKERING MARK R\n",
      "PIPER GREGORY F\n",
      "PIRO JIM\n",
      "POWERS WILLIAM\n",
      "PRENTICE JAMES\n",
      "REDMOND BRIAN L\n",
      "REYNOLDS LAWRENCE\n",
      "RICE KENNETH D\n",
      "RIEKER PAULA H\n",
      "SAVAGE FRANK\n",
      "SCRIMSHAW MATTHEW\n",
      "SHANKMAN JEFFREY A\n",
      "SHAPIRO RICHARD S\n",
      "SHARP VICTORIA T\n",
      "SHELBY REX\n",
      "SHERRICK JEFFREY B\n",
      "SHERRIFF JOHN R\n",
      "SKILLING JEFFREY K\n",
      "STABLER FRANK\n",
      "SULLIVAN-SHAKLOVITZ COLLEEN\n",
      "SUNDE MARTIN\n",
      "TAYLOR MITCHELL S\n",
      "THE TRAVEL AGENCY IN THE PARK\n",
      "THORN TERENCE H\n",
      "TILNEY ELIZABETH A\n",
      "TOTAL\n",
      "UMANOFF ADAM S\n",
      "URQUHART JOHN A\n",
      "WAKEHAM JOHN\n",
      "WALLS JR ROBERT H\n",
      "WALTERS GARETH W\n",
      "WASAFF GEORGE\n",
      "WESTFAHL RICHARD K\n",
      "WHALEY DAVID A\n",
      "WHALLEY LAWRENCE G\n",
      "WHITE JR THOMAS E\n",
      "WINOKUR JR. HERBERT S\n",
      "WODRASKA JOHN\n",
      "WROBEL BRUCE\n",
      "YEAGER F SCOTT\n",
      "YEAP SOON\n"
     ]
    }
   ],
   "source": [
    "for i in eso.index:\n",
    "    print i;"
   ]
  },
  {
   "cell_type": "code",
   "execution_count": 166,
   "metadata": {
    "collapsed": false,
    "scrolled": true
   },
   "outputs": [
    {
     "data": {
      "text/plain": [
       "SHERRICK JEFFREY B               NaN\n",
       "MCDONALD REBECCA                 NaN\n",
       "MORAN MICHAEL P                  NaN\n",
       "MCCARTY DANNY J                  NaN\n",
       "CORDES WILLIAM R                 NaN\n",
       "PIRO JIM                         NaN\n",
       "CLINE KENNETH W                  NaN\n",
       "CHRISTODOULOU DIOMEDES           NaN\n",
       "CHAN RONNIE                      NaN\n",
       "LOWRY CHARLES P                  NaN\n",
       "POWERS WILLIAM                   NaN\n",
       "SCRIMSHAW MATTHEW                NaN\n",
       "LOCKHART EUGENE E                NaN\n",
       "FOWLER PEGGY                     NaN\n",
       "LEWIS RICHARD                    NaN\n",
       "HAYSLETT RODERICK J              NaN\n",
       "GATHMANN WILLIAM D               NaN\n",
       "GILLIS JOHN                      NaN\n",
       "WHALEY DAVID A                   NaN\n",
       "HUGHES JAMES A                   NaN\n",
       "WROBEL BRUCE                     NaN\n",
       "TOTAL                      309886585\n",
       "LAY KENNETH L              103559793\n",
       "FREVERT MARK A              17252530\n",
       "BHATNAGAR SANJAY            15456290\n",
       "LAVORATO JOHN J             10425757\n",
       "SKILLING JEFFREY K           8682716\n",
       "MARTIN AMANDA K              8407016\n",
       "BAXTER JOHN C                5634343\n",
       "BELDEN TIMOTHY N             5501630\n",
       "                             ...    \n",
       "YEAGER F SCOTT                360300\n",
       "DODSON KEITH                  319941\n",
       "HANNON KEVIN P                288682\n",
       "OVERDYKE JR JERE C            249787\n",
       "URQUHART JOHN A               228656\n",
       "BERBERIAN DAVID               228474\n",
       "WAKEHAM JOHN                  213071\n",
       "ELLIOTT STEVEN                211725\n",
       "WODRASKA JOHN                 189583\n",
       "BADUM JAMES P                 182466\n",
       "FOY JOE                       181755\n",
       "GRAMM WENDY L                 119292\n",
       "REDMOND BRIAN L               111529\n",
       "BELFER ROBERT                 102500\n",
       "HIRKO JOSEPH                   91093\n",
       "LEMAISTRE CHARLES              87492\n",
       "WALTERS GARETH W               87410\n",
       "WINOKUR JR. HERBERT S          84992\n",
       "JAEDICKE ROBERT                83750\n",
       "DUNCAN JOHN H                  77492\n",
       "YEAP SOON                      55097\n",
       "FUGH JOHN L                    50591\n",
       "BROWN MICHAEL                  49288\n",
       "PEREIRA PAULO V. FERRAZ        27942\n",
       "HAYES ROBERT E                  7961\n",
       "SAVAGE FRANK                    3750\n",
       "MEYER JEROME J                  2151\n",
       "BLAKE JR. NORMAN P              1279\n",
       "HAUG DAVID L                     475\n",
       "MENDELSOHN JOHN                  148\n",
       "Name: total_payments, dtype: object"
      ]
     },
     "execution_count": 166,
     "metadata": {},
     "output_type": "execute_result"
    }
   ],
   "source": [
    "enron.sort_values(by = 'total_payments',ascending =False,na_position='last')['total_payments']"
   ]
  },
  {
   "cell_type": "markdown",
   "metadata": {},
   "source": [
    "How many folks in this dataset have a quantified salary? What about a known email address?"
   ]
  },
  {
   "cell_type": "code",
   "execution_count": 164,
   "metadata": {
    "collapsed": false
   },
   "outputs": [
    {
     "data": {
      "text/plain": [
       "111"
      ]
     },
     "execution_count": 164,
     "metadata": {},
     "output_type": "execute_result"
    }
   ],
   "source": [
    "(enron['email_address']!='NaN').sum()"
   ]
  },
  {
   "cell_type": "code",
   "execution_count": 165,
   "metadata": {
    "collapsed": false
   },
   "outputs": [
    {
     "data": {
      "text/plain": [
       "95"
      ]
     },
     "execution_count": 165,
     "metadata": {},
     "output_type": "execute_result"
    }
   ],
   "source": [
    "(enron['salary']!= 'NaN').sum()"
   ]
  },
  {
   "cell_type": "markdown",
   "metadata": {},
   "source": [
    "A python dictionary can’t be read directly into an sklearn classification or regression algorithm; instead, it needs a numpy array or a list of lists (each element of the list (itself a list) is a data point, and the elements of the smaller list are the features of that point).\n",
    "\n",
    "We’ve written some helper functions (featureFormat() and targetFeatureSplit() in tools/feature_format.py) that can take a list of feature names and the data dictionary, and return a numpy array.\n",
    "\n",
    "In the case when a feature does not have a value for a particular person, this function will also replace the feature value with 0 (zero)."
   ]
  },
  {
   "cell_type": "markdown",
   "metadata": {},
   "source": [
    "#### Missing POIs 1 (optional)\n",
    "As you saw a little while ago, not every POI has an entry in the dataset (e.g. Michael Krautz). That’s because the dataset was created using the financial data you can find in final_project/enron61702insiderpay.pdf, which is missing some POI’s (those absences propagated through to the final dataset). On the other hand, for many of these “missing” POI’s, we do have emails.\n",
    "\n",
    "While it would be straightforward to add these POI’s and their email information to the E+F dataset, and just put “NaN” for their financial information, this could introduce a subtle problem. You will walk through that here.\n",
    "\n",
    "How many people in the E+F dataset (as it currently exists) have “NaN” for their total payments? What percentage of people in the dataset as a whole is this?"
   ]
  },
  {
   "cell_type": "code",
   "execution_count": 171,
   "metadata": {
    "collapsed": false
   },
   "outputs": [
    {
     "data": {
      "text/plain": [
       "0.14383561643835616"
      ]
     },
     "execution_count": 171,
     "metadata": {},
     "output_type": "execute_result"
    }
   ],
   "source": [
    "(enron['total_payments']=='NaN').sum() / 146.0"
   ]
  },
  {
   "cell_type": "markdown",
   "metadata": {},
   "source": [
    "Adding in the new POI’s in this example, none of whom we have financial information for, has introduced a subtle problem, that our lack of financial information about them can be picked up by an algorithm as a clue that they’re POIs. Another way to think about this is that there’s now a difference in how we generated the data for our two classes--non-POIs all come from the financial spreadsheet, while many POIs get added in by hand afterwards. That difference can trick us into thinking we have better performance than we do--suppose you use your POI detector to decide whether a new, unseen person is a POI, and that person isn’t on the spreadsheet. Then all their financial data would contain “NaN” but the person is very likely not a POI (there are many more non-POIs than POIs in the world, and even at Enron)--you’d be likely to accidentally identify them as a POI, though!\n",
    "\n",
    "This goes to say that, when generating or augmenting a dataset, you should be exceptionally careful if your data are coming from different sources for different classes. It can easily lead to the type of bias or mistake that we showed here. There are ways to deal with this, for example, you wouldn’t have to worry about this problem if you used only email data--in that case, discrepancies in the financial data wouldn’t matter because financial features aren’t being used. There are also more sophisticated ways of estimating how much of an effect these biases can have on your final answer; those are beyond the scope of this course.\n",
    "\n",
    "For now, the takeaway message is to be very careful about introducing features that come from different sources depending on the class! It’s a classic way to accidentally introduce biases and mistakes."
   ]
  }
 ],
 "metadata": {
  "kernelspec": {
   "display_name": "Python 2",
   "language": "python",
   "name": "python2"
  },
  "language_info": {
   "codemirror_mode": {
    "name": "ipython",
    "version": 2
   },
   "file_extension": ".py",
   "mimetype": "text/x-python",
   "name": "python",
   "nbconvert_exporter": "python",
   "pygments_lexer": "ipython2",
   "version": "2.7.12+"
  }
 },
 "nbformat": 4,
 "nbformat_minor": 2
}
