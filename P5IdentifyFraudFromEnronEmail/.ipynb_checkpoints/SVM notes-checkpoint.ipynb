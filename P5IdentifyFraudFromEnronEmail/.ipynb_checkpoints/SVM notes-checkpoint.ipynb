{
 "cells": [
  {
   "cell_type": "markdown",
   "metadata": {},
   "source": [
    "# Support Vector Machine (SVM) Algorithm\n",
    "\n",
    "Invented by a Russian scientist that can take input data and creat a line, plane or hyperplane that can best seperate the data.The plane that can best seprate the data can maximizes the distance to nearest points(Maximize margin). \n",
    "\n",
    "Robust is the key feature a SVM want to enhance.\n",
    "\n",
    "#### SVM will first make sure classification correctness, then maximize the Margin!\n",
    "Thus, outliers are very influencial and disturbing to the result.\n",
    "\n",
    "And SVM algorithm can make useful decision (result) even when single outlier exist(Tolerence for outliers).\n",
    "\n",
    "#### SVM, from linear seperation plane to a projected non-linear seperation plane.\n",
    "\n",
    "**Kernel Trick** Turn low dimension not seperable problem to a higher dimension seperable problem.\n",
    "\n",
    "Different kernels can be specify when create SVC.\n",
    "\n",
    "SVM parameters:\n",
    "\n",
    "C : smoothness(penalty)\n",
    "\n",
    "Gamma: "
   ]
  },
  {
   "cell_type": "markdown",
   "metadata": {},
   "source": [
    "The kernel function can be any of the following:\n",
    "linear: $\\langle x, x'\\rangle$.\n",
    "polynomial: $(\\gamma \\langle x, x'\\rangle + r)^d$. d is specified by keyword degree, r by coef0.\n",
    "rbf: $\\exp{(-\\gamma |x-x'|^2)}$. $\\gamma $is specified by keyword gamma, must be greater than 0.\n",
    "sigmoid $(\\tanh(\\gamma \\langle x,x'\\rangle + r))$, where r is specified by coef0.\n",
    "Different kernels are specified by keyword kernel at initialization:\n",
    "```\n",
    ">>>\n",
    ">>> linear_svc = svm.SVC(kernel='linear')\n",
    ">>> linear_svc.kernel\n",
    "'linear'\n",
    ">>> rbf_svc = svm.SVC(kernel='rbf')\n",
    ">>> rbf_svc.kernel\n",
    "'rbf'\n",
    "```"
   ]
  },
  {
   "cell_type": "code",
   "execution_count": null,
   "metadata": {
    "collapsed": true
   },
   "outputs": [],
   "source": [
    "import sys\n",
    "from class_vis import prettyPicture\n",
    "from prep_terrain_data import makeTerrainData\n",
    "\n",
    "import matplotlib.pyplot as plt\n",
    "import copy\n",
    "import numpy as np\n",
    "import pylab as pl\n",
    "\n",
    "\n",
    "features_train, labels_train, features_test, labels_test = makeTerrainData()\n",
    "\n",
    "\n",
    "########################## SVM #################################\n",
    "### we handle the import statement and SVC creation for you here\n",
    "from sklearn.svm import SVC\n",
    "clf = SVC(kernel=\"linear\")# force SVC using linear kernel\n",
    "\n",
    "#### now your job is to fit the classifier\n",
    "#### using the training features/labels, and to\n",
    "#### make a set of predictions on the test data\n",
    "\n",
    "#training SVC using train dataset\n",
    "clf.fit(features_train,labels_train)\n",
    "\n",
    "#### store your predictions in a list named pred\n",
    "\n",
    "#make prediction using trained clf\n",
    "pred = clf.predict(features_test)\n",
    "\n",
    "from sklearn.metrics import accuracy_score\n",
    "acc = accuracy_score(pred, labels_test)\n",
    "\n",
    "def submitAccuracy():\n",
    "    return acc"
   ]
  }
 ],
 "metadata": {
  "kernelspec": {
   "display_name": "Python 2",
   "language": "python",
   "name": "python2"
  },
  "language_info": {
   "codemirror_mode": {
    "name": "ipython",
    "version": 2
   },
   "file_extension": ".py",
   "mimetype": "text/x-python",
   "name": "python",
   "nbconvert_exporter": "python",
   "pygments_lexer": "ipython2",
   "version": "2.7.12+"
  }
 },
 "nbformat": 4,
 "nbformat_minor": 2
}
