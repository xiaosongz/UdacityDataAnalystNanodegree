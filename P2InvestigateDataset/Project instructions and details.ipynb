{
 "cells": [
  {
   "cell_type": "markdown",
   "metadata": {},
   "source": [
    "###  Project overview and instuction"
   ]
  },
  {
   "cell_type": "markdown",
   "metadata": {},
   "source": [
    "Project Overview\n",
    "In this project, you will analyze a dataset and then communicate your findings about it. You will use the Python libraries NumPy, Pandas, and Matplotlib to make your analysis easier.\n",
    "\n",
    "Prepare for this project with: Intro to Data Analysis\n",
    "\n",
    "What do I need to install?\n",
    "You will need an installation of Python, plus the following libraries:\n",
    "\n",
    "* pandas\n",
    "* numpy\n",
    "* matplotlib\n",
    "* csv\n",
    "We recommend installing Anaconda, which comes with all of the necessary packages, as well as IPython notebook. You can find installation instructions here.\n",
    "\n",
    "Why this Project?\n",
    "This project will introduce you to the data analysis process that you will be using throughout the rest of the Nanodegree program. In this project, you will go through the entire process so that you know how all the pieces fit together. Later Nanodegree projects will focus on individual pieces of the data analysis process. In this project, you will also gain experience using the Python libraries NumPy, Pandas, and Matplotlib, which make writing data analysis code in Python a lot easier!\n",
    "\n",
    "What will I learn?\n",
    "After completing the project, you will:\n",
    "\n",
    "Know all the steps involved in a typical data analysis process\n",
    "Be comfortable posing questions that can be answered with a given dataset and then answering those questions\n",
    "Know how to investigate problems in a dataset and wrangle the data into a format you can use\n",
    "Have practice communicating the results of your analysis\n",
    "Be able to use vectorized operations in NumPy and Pandas to speed up your data analysis code\n",
    "Be familiar with Pandas' Series and DataFrame objects, which let you access your data more conveniently\n",
    "Know how to use Matplotlib to produce plots showing your findings\n",
    "Why is this Important to my Career?\n",
    "This project will show off a variety of data analysis skills, as well as showing potential employers that you know how to go through the entire data analysis process."
   ]
  },
  {
   "cell_type": "markdown",
   "metadata": {},
   "source": [
    "How do I Complete this Project?\n",
    "This project is connected with the Introduction to Data Analysis course, but depending on your background knowledge, you may not need to take the whole class to complete this project.\n",
    "\n",
    "Introduction\n",
    "For the final project, you will conduct your own data analysis and create a file to share that documents your findings. You should start by taking a look at your dataset and brainstorming what questions you could answer using it. Then you should use Pandas and NumPy to answer the questions you are most interested in, and create a report sharing the answers. You will not be required to use statistics or machine learning to complete this project, but you should make it clear in your communications that your findings are tentative. This project is open-ended in that we are not looking for one right answer.\n",
    "\n",
    "Step One - Choose Your Data Set\n",
    "Choose one of the following datasets to analyze for your project:\n",
    "\n",
    "Titanic Data - Contains demographics and passenger information from 891 of the 2224 passengers and crew on board the Titanic. You can view a description of this dataset on the Kaggle website, where the data was obtained.\n",
    "Baseball Data - A data set containing complete batting and pitching statistics from 1871 to 2014, plus fielding statistics, standings, team stats, managerial records, post-season data, and more. This dataset contains many files, but you can choose to analyze only the one(s) you are most interested in.\n",
    "\n",
    "Choose the comma-delimited version, which contains CSV files.\n",
    "Step Two - Get Organized\n",
    "Eventually you’ll want to submit your project (and share it with friends, family, and employers). Get organized before you begin. We recommend creating a single folder that will eventually contain:\n",
    "\n",
    "The report communicating your findings\n",
    "Any Python code you wrote as part of your analysis\n",
    "The data set you used (which you will not need to submit)\n",
    "You may wish to use Jupyter notebook, in which case you can submit both the code you wrote and the report of your findings in the same document. Otherwise, you will need to submit your report and code separately.\n",
    "\n",
    "Step Three - Analyze Your Data\n",
    "Brainstorm some questions you could answer using the data set you chose, then start answering those questions. Here are some ideas to get you started:\n",
    "\n",
    "Titanic Data\n",
    "What factors made people more likely to survive?\n",
    "Baseball Data\n",
    "What is the relationship between different performance metrics? Do any have a strong negative or positive relationship?\n",
    "What are the characteristics of baseball players with the highest salaries?\n",
    "Try and suggest questions that promote looking at relationships between multiple variables. You should aim to analyze at least one dependent variable and three independent variables in your investigation. Make sure you use NumPy and Pandas where they are appropriate!\n",
    "\n",
    "Step Four - Share Your Findings\n",
    "Once you have finished analyzing the data, create a report that shares the findings you found most interesting. You might wish to use Jupyter notebook to share your findings alongside the code you used to perform the analysis, but you can also use another tool if you wish. If you do use a Jupyter notebook, make sure that your report text is contained in Markdown cells to clearly distinguish your comments and findings from your code work.\n",
    "\n",
    "Step Five - Review\n",
    "Use the Project Rubric to review your project. If you are happy with your submission, then you're ready to submit your project. If you see room for improvement, keep working to improve your project.\n",
    "Supporting Materials\n",
    "titanic_data.csv"
   ]
  }
 ],
 "metadata": {
  "kernelspec": {
   "display_name": "Python 3",
   "language": "python",
   "name": "python3"
  },
  "language_info": {
   "codemirror_mode": {
    "name": "ipython",
    "version": 3
   },
   "file_extension": ".py",
   "mimetype": "text/x-python",
   "name": "python",
   "nbconvert_exporter": "python",
   "pygments_lexer": "ipython3",
   "version": "3.5.2"
  }
 },
 "nbformat": 4,
 "nbformat_minor": 2
}
